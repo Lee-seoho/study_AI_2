{
 "cells": [
  {
   "cell_type": "markdown",
   "id": "bb5be206-d90b-4586-aa53-8247b938fdc9",
   "metadata": {},
   "source": [
    "# 1. Classification\n",
    "* 분류는 기계 학습과 통계학에서 시스템이 일련의 특성을 기반으로 미리 정의된 여러 범주 또는 클래스 중 하나에 주어진 입력을 할당하도록 훈련되는 과정\n",
    "* 입력 기능과 클래스 레이블 사이의 학습된 관계를 기반으로 샘플의 클래스 레이블을 예측하는 것\n",
    "* Binary Classification\n",
    "  * 이진 분류: 데이터 요소를 두 클래스 중 하나로 분류\n",
    "  * 질병 vs 질병 진단 아님, 에이리언 vs 프러데터\n",
    "* Multiclass Classification\n",
    "  * 다중 클래스 분류: 데이터 요소를 여러 클래스 중 하나로 분류\n",
    "  * 이미지에서 개체 인식(고양이, 강아지, 코끼리 ..)\n",
    "* Multi-label Classification\n",
    "  * 다중 레이블 분류: 단일 데이터 요소가 여러 클래스에 속할 수 있음\n",
    "  * 이미지 주석(개: 포유동물, 길들여진 동물, 둘 다 일 수 있음)"
   ]
  },
  {
   "cell_type": "markdown",
   "id": "f08d9076-a3df-4242-a6b8-fe68ae24118c",
   "metadata": {},
   "source": [
    "# 2. Classification 실습"
   ]
  },
  {
   "cell_type": "markdown",
   "id": "4136c2be-2b28-4f68-a6c2-67ce8bb8d5e9",
   "metadata": {},
   "source": [
    "```\n",
    "!pip install opencv-python\n",
    "!pip install matplotlib\n",
    "!pip install torch\n",
    "!pip install torchvision\n",
    "!pip install interact\n",
    "```"
   ]
  },
  {
   "cell_type": "code",
   "execution_count": 2,
   "id": "cfb120be-ae3d-4dc1-961a-b96269a4df3b",
   "metadata": {},
   "outputs": [
    {
     "name": "stdout",
     "output_type": "stream",
     "text": [
      "Requirement already satisfied: opencv-python in c:\\users\\white\\.conda\\envs\\tf2\\lib\\site-packages (4.9.0.80)\n",
      "Requirement already satisfied: numpy>=1.17.0 in c:\\users\\white\\.conda\\envs\\tf2\\lib\\site-packages (from opencv-python) (1.24.3)\n"
     ]
    }
   ],
   "source": [
    "!pip install opencv-python"
   ]
  },
  {
   "cell_type": "code",
   "execution_count": 3,
   "id": "ac67fad4-a02f-4d86-b891-1abbf3670e4f",
   "metadata": {},
   "outputs": [
    {
     "name": "stdout",
     "output_type": "stream",
     "text": [
      "Requirement already satisfied: matplotlib in c:\\users\\white\\.conda\\envs\\tf2\\lib\\site-packages (3.7.4)\n",
      "Requirement already satisfied: contourpy>=1.0.1 in c:\\users\\white\\.conda\\envs\\tf2\\lib\\site-packages (from matplotlib) (1.1.1)\n",
      "Requirement already satisfied: cycler>=0.10 in c:\\users\\white\\.conda\\envs\\tf2\\lib\\site-packages (from matplotlib) (0.12.1)\n",
      "Requirement already satisfied: fonttools>=4.22.0 in c:\\users\\white\\.conda\\envs\\tf2\\lib\\site-packages (from matplotlib) (4.47.2)\n",
      "Requirement already satisfied: kiwisolver>=1.0.1 in c:\\users\\white\\.conda\\envs\\tf2\\lib\\site-packages (from matplotlib) (1.4.5)\n",
      "Requirement already satisfied: numpy<2,>=1.20 in c:\\users\\white\\.conda\\envs\\tf2\\lib\\site-packages (from matplotlib) (1.24.3)\n",
      "Requirement already satisfied: packaging>=20.0 in c:\\users\\white\\.conda\\envs\\tf2\\lib\\site-packages (from matplotlib) (23.1)\n",
      "Requirement already satisfied: pillow>=6.2.0 in c:\\users\\white\\.conda\\envs\\tf2\\lib\\site-packages (from matplotlib) (10.2.0)\n",
      "Requirement already satisfied: pyparsing>=2.3.1 in c:\\users\\white\\.conda\\envs\\tf2\\lib\\site-packages (from matplotlib) (2.4.7)\n",
      "Requirement already satisfied: python-dateutil>=2.7 in c:\\users\\white\\.conda\\envs\\tf2\\lib\\site-packages (from matplotlib) (2.8.2)\n",
      "Requirement already satisfied: importlib-resources>=3.2.0 in c:\\users\\white\\.conda\\envs\\tf2\\lib\\site-packages (from matplotlib) (6.1.1)\n",
      "Requirement already satisfied: zipp>=3.1.0 in c:\\users\\white\\.conda\\envs\\tf2\\lib\\site-packages (from importlib-resources>=3.2.0->matplotlib) (3.17.0)\n",
      "Requirement already satisfied: six>=1.5 in c:\\users\\white\\.conda\\envs\\tf2\\lib\\site-packages (from python-dateutil>=2.7->matplotlib) (1.16.0)\n"
     ]
    }
   ],
   "source": [
    "!pip install matplotlib"
   ]
  },
  {
   "cell_type": "code",
   "execution_count": 4,
   "id": "2f140379-22cf-4085-a8ba-0d820574871a",
   "metadata": {},
   "outputs": [
    {
     "name": "stdout",
     "output_type": "stream",
     "text": [
      "Collecting torch\n",
      "  Downloading torch-2.2.1-cp38-cp38-win_amd64.whl.metadata (26 kB)\n",
      "Collecting filelock (from torch)\n",
      "  Downloading filelock-3.13.1-py3-none-any.whl.metadata (2.8 kB)\n",
      "Requirement already satisfied: typing-extensions>=4.8.0 in c:\\users\\white\\.conda\\envs\\tf2\\lib\\site-packages (from torch) (4.9.0)\n",
      "Collecting sympy (from torch)\n",
      "  Downloading sympy-1.12-py3-none-any.whl.metadata (12 kB)\n",
      "Collecting networkx (from torch)\n",
      "  Downloading networkx-3.1-py3-none-any.whl.metadata (5.3 kB)\n",
      "Requirement already satisfied: jinja2 in c:\\users\\white\\.conda\\envs\\tf2\\lib\\site-packages (from torch) (3.1.3)\n",
      "Collecting fsspec (from torch)\n",
      "  Downloading fsspec-2024.2.0-py3-none-any.whl.metadata (6.8 kB)\n",
      "Requirement already satisfied: MarkupSafe>=2.0 in c:\\users\\white\\.conda\\envs\\tf2\\lib\\site-packages (from jinja2->torch) (2.1.3)\n",
      "Collecting mpmath>=0.19 (from sympy->torch)\n",
      "  Downloading mpmath-1.3.0-py3-none-any.whl.metadata (8.6 kB)\n",
      "Downloading torch-2.2.1-cp38-cp38-win_amd64.whl (198.6 MB)\n",
      "   ---------------------------------------- 0.0/198.6 MB ? eta -:--:--\n",
      "   ---------------------------------------- 0.5/198.6 MB 10.2 MB/s eta 0:00:20\n",
      "   ---------------------------------------- 1.2/198.6 MB 12.8 MB/s eta 0:00:16\n",
      "   ---------------------------------------- 2.0/198.6 MB 14.5 MB/s eta 0:00:14\n",
      "    --------------------------------------- 2.9/198.6 MB 15.6 MB/s eta 0:00:13\n",
      "    --------------------------------------- 4.1/198.6 MB 17.3 MB/s eta 0:00:12\n",
      "   - -------------------------------------- 5.0/198.6 MB 17.6 MB/s eta 0:00:11\n",
      "   - -------------------------------------- 5.8/198.6 MB 17.5 MB/s eta 0:00:12\n",
      "   - -------------------------------------- 6.9/198.6 MB 18.2 MB/s eta 0:00:11\n",
      "   - -------------------------------------- 7.9/198.6 MB 18.8 MB/s eta 0:00:11\n",
      "   - -------------------------------------- 9.1/198.6 MB 20.1 MB/s eta 0:00:10\n",
      "   -- ------------------------------------- 10.4/198.6 MB 20.5 MB/s eta 0:00:10\n",
      "   -- ------------------------------------- 12.0/198.6 MB 22.6 MB/s eta 0:00:09\n",
      "   -- ------------------------------------- 13.5/198.6 MB 23.4 MB/s eta 0:00:08\n",
      "   -- ------------------------------------- 14.6/198.6 MB 23.4 MB/s eta 0:00:08\n",
      "   --- ------------------------------------ 15.7/198.6 MB 24.2 MB/s eta 0:00:08\n",
      "   --- ------------------------------------ 16.9/198.6 MB 24.2 MB/s eta 0:00:08\n",
      "   --- ------------------------------------ 18.0/198.6 MB 24.2 MB/s eta 0:00:08\n",
      "   --- ------------------------------------ 19.1/198.6 MB 24.2 MB/s eta 0:00:08\n",
      "   ---- ----------------------------------- 20.4/198.6 MB 24.2 MB/s eta 0:00:08\n",
      "   ---- ----------------------------------- 21.5/198.6 MB 24.3 MB/s eta 0:00:08\n",
      "   ---- ----------------------------------- 22.6/198.6 MB 24.2 MB/s eta 0:00:08\n",
      "   ---- ----------------------------------- 23.8/198.6 MB 24.2 MB/s eta 0:00:08\n",
      "   ----- ---------------------------------- 25.7/198.6 MB 27.3 MB/s eta 0:00:07\n",
      "   ----- ---------------------------------- 28.4/198.6 MB 31.2 MB/s eta 0:00:06\n",
      "   ----- ---------------------------------- 29.4/198.6 MB 34.4 MB/s eta 0:00:05\n",
      "   ------ --------------------------------- 31.5/198.6 MB 34.4 MB/s eta 0:00:05\n",
      "   ------ --------------------------------- 34.1/198.6 MB 43.5 MB/s eta 0:00:04\n",
      "   ------- -------------------------------- 36.7/198.6 MB 46.9 MB/s eta 0:00:04\n",
      "   ------- -------------------------------- 39.4/198.6 MB 46.9 MB/s eta 0:00:04\n",
      "   -------- ------------------------------- 42.7/198.6 MB 59.5 MB/s eta 0:00:03\n",
      "   --------- ------------------------------ 46.3/198.6 MB 59.5 MB/s eta 0:00:03\n",
      "   --------- ------------------------------ 49.1/198.6 MB 59.5 MB/s eta 0:00:03\n",
      "   ---------- ----------------------------- 52.7/198.6 MB 59.5 MB/s eta 0:00:03\n",
      "   ----------- ---------------------------- 55.2/198.6 MB 59.5 MB/s eta 0:00:03\n",
      "   ----------- ---------------------------- 55.6/198.6 MB 59.5 MB/s eta 0:00:03\n",
      "   ----------- ---------------------------- 55.6/198.6 MB 59.5 MB/s eta 0:00:03\n",
      "   ----------- ---------------------------- 55.6/198.6 MB 59.5 MB/s eta 0:00:03\n",
      "   ----------- ---------------------------- 56.6/198.6 MB 31.2 MB/s eta 0:00:05\n",
      "   ----------- ---------------------------- 59.4/198.6 MB 31.2 MB/s eta 0:00:05\n",
      "   ------------ --------------------------- 62.1/198.6 MB 29.7 MB/s eta 0:00:05\n",
      "   ------------- -------------------------- 64.8/198.6 MB 29.7 MB/s eta 0:00:05\n",
      "   ------------- -------------------------- 67.4/198.6 MB 59.5 MB/s eta 0:00:03\n",
      "   -------------- ------------------------- 70.0/198.6 MB 59.5 MB/s eta 0:00:03\n",
      "   -------------- ------------------------- 72.8/198.6 MB 59.5 MB/s eta 0:00:03\n",
      "   --------------- ------------------------ 75.5/198.6 MB 59.5 MB/s eta 0:00:03\n",
      "   --------------- ------------------------ 78.2/198.6 MB 54.7 MB/s eta 0:00:03\n",
      "   ---------------- ----------------------- 80.3/198.6 MB 54.7 MB/s eta 0:00:03\n",
      "   ---------------- ----------------------- 83.1/198.6 MB 59.5 MB/s eta 0:00:02\n",
      "   ---------------- ----------------------- 83.9/198.6 MB 59.5 MB/s eta 0:00:02\n",
      "   ---------------- ----------------------- 83.9/198.6 MB 36.3 MB/s eta 0:00:04\n",
      "   ----------------- ---------------------- 87.5/198.6 MB 36.4 MB/s eta 0:00:04\n",
      "   ------------------ --------------------- 90.2/198.6 MB 36.4 MB/s eta 0:00:03\n",
      "   ------------------ --------------------- 92.9/198.6 MB 36.4 MB/s eta 0:00:03\n",
      "   ------------------- -------------------- 95.6/198.6 MB 59.5 MB/s eta 0:00:02\n",
      "   ------------------- -------------------- 98.4/198.6 MB 59.5 MB/s eta 0:00:02\n",
      "   ------------------- ------------------- 101.1/198.6 MB 59.8 MB/s eta 0:00:02\n",
      "   -------------------- ------------------ 103.4/198.6 MB 54.7 MB/s eta 0:00:02\n",
      "   -------------------- ------------------ 106.4/198.6 MB 59.5 MB/s eta 0:00:02\n",
      "   --------------------- ----------------- 109.2/198.6 MB 59.5 MB/s eta 0:00:02\n",
      "   --------------------- ----------------- 111.8/198.6 MB 59.5 MB/s eta 0:00:02\n",
      "   ---------------------- ---------------- 114.5/198.6 MB 59.5 MB/s eta 0:00:02\n",
      "   ----------------------- --------------- 117.4/198.6 MB 59.5 MB/s eta 0:00:02\n",
      "   ----------------------- --------------- 120.1/198.6 MB 59.5 MB/s eta 0:00:02\n",
      "   ------------------------ -------------- 122.7/198.6 MB 59.8 MB/s eta 0:00:02\n",
      "   ------------------------ -------------- 122.7/198.6 MB 59.8 MB/s eta 0:00:02\n",
      "   ------------------------ -------------- 122.7/198.6 MB 59.8 MB/s eta 0:00:02\n",
      "   ------------------------ -------------- 124.5/198.6 MB 36.4 MB/s eta 0:00:03\n",
      "   ------------------------ -------------- 127.0/198.6 MB 34.4 MB/s eta 0:00:03\n",
      "   ------------------------- ------------- 129.9/198.6 MB 34.4 MB/s eta 0:00:02\n",
      "   -------------------------- ------------ 132.7/198.6 MB 34.4 MB/s eta 0:00:02\n",
      "   -------------------------- ------------ 134.4/198.6 MB 50.1 MB/s eta 0:00:02\n",
      "   -------------------------- ------------ 136.4/198.6 MB 54.4 MB/s eta 0:00:02\n",
      "   --------------------------- ----------- 139.2/198.6 MB 50.4 MB/s eta 0:00:02\n",
      "   --------------------------- ----------- 142.1/198.6 MB 46.7 MB/s eta 0:00:02\n",
      "   ---------------------------- ---------- 142.6/198.6 MB 43.7 MB/s eta 0:00:02\n",
      "   ---------------------------- ---------- 142.6/198.6 MB 43.7 MB/s eta 0:00:02\n",
      "   ---------------------------- ---------- 143.0/198.6 MB 29.8 MB/s eta 0:00:02\n",
      "   ---------------------------- ---------- 146.0/198.6 MB 29.7 MB/s eta 0:00:02\n",
      "   ----------------------------- --------- 148.0/198.6 MB 29.7 MB/s eta 0:00:02\n",
      "   ----------------------------- --------- 150.0/198.6 MB 29.7 MB/s eta 0:00:02\n",
      "   ----------------------------- --------- 152.2/198.6 MB 29.7 MB/s eta 0:00:02\n",
      "   ------------------------------ -------- 154.6/198.6 MB 46.9 MB/s eta 0:00:01\n",
      "   ------------------------------ -------- 156.8/198.6 MB 46.9 MB/s eta 0:00:01\n",
      "   ------------------------------- ------- 159.1/198.6 MB 46.7 MB/s eta 0:00:01\n",
      "   ------------------------------- ------- 161.5/198.6 MB 50.4 MB/s eta 0:00:01\n",
      "   -------------------------------- ------ 163.9/198.6 MB 50.4 MB/s eta 0:00:01\n",
      "   -------------------------------- ------ 166.1/198.6 MB 50.4 MB/s eta 0:00:01\n",
      "   --------------------------------- ----- 168.4/198.6 MB 50.4 MB/s eta 0:00:01\n",
      "   --------------------------------- ----- 170.9/198.6 MB 54.4 MB/s eta 0:00:01\n",
      "   ---------------------------------- ---- 173.2/198.6 MB 54.4 MB/s eta 0:00:01\n",
      "   ---------------------------------- ---- 175.8/198.6 MB 50.4 MB/s eta 0:00:01\n",
      "   ---------------------------------- ---- 178.1/198.6 MB 50.4 MB/s eta 0:00:01\n",
      "   ----------------------------------- --- 180.4/198.6 MB 50.4 MB/s eta 0:00:01\n",
      "   ----------------------------------- --- 182.8/198.6 MB 50.4 MB/s eta 0:00:01\n",
      "   ------------------------------------ -- 185.3/198.6 MB 50.4 MB/s eta 0:00:01\n",
      "   ------------------------------------ -- 187.4/198.6 MB 46.7 MB/s eta 0:00:01\n",
      "   ------------------------------------- - 189.8/198.6 MB 50.1 MB/s eta 0:00:01\n",
      "   ------------------------------------- - 190.8/198.6 MB 50.4 MB/s eta 0:00:01\n",
      "   ------------------------------------- - 190.8/198.6 MB 50.4 MB/s eta 0:00:01\n",
      "   ------------------------------------- - 190.9/198.6 MB 31.2 MB/s eta 0:00:01\n",
      "   ------------------------------------- - 191.9/198.6 MB 31.2 MB/s eta 0:00:01\n",
      "   ------------------------------------- - 191.9/198.6 MB 31.2 MB/s eta 0:00:01\n",
      "   ------------------------------------- - 191.9/198.6 MB 31.2 MB/s eta 0:00:01\n",
      "   --------------------------------------  194.2/198.6 MB 22.6 MB/s eta 0:00:01\n",
      "   --------------------------------------  196.4/198.6 MB 22.5 MB/s eta 0:00:01\n",
      "   --------------------------------------  198.6/198.6 MB 23.4 MB/s eta 0:00:01\n",
      "   --------------------------------------  198.6/198.6 MB 23.4 MB/s eta 0:00:01\n",
      "   --------------------------------------  198.6/198.6 MB 23.4 MB/s eta 0:00:01\n",
      "   --------------------------------------  198.6/198.6 MB 23.4 MB/s eta 0:00:01\n",
      "   --------------------------------------  198.6/198.6 MB 23.4 MB/s eta 0:00:01\n",
      "   --------------------------------------- 198.6/198.6 MB 13.4 MB/s eta 0:00:00\n",
      "Downloading filelock-3.13.1-py3-none-any.whl (11 kB)\n",
      "Downloading fsspec-2024.2.0-py3-none-any.whl (170 kB)\n",
      "   ---------------------------------------- 0.0/170.9 kB ? eta -:--:--\n",
      "   --------------------------------------- 170.9/170.9 kB 10.0 MB/s eta 0:00:00\n",
      "Downloading networkx-3.1-py3-none-any.whl (2.1 MB)\n",
      "   ---------------------------------------- 0.0/2.1 MB ? eta -:--:--\n",
      "   ---------------------------------------- 2.1/2.1 MB 66.5 MB/s eta 0:00:00\n",
      "Downloading sympy-1.12-py3-none-any.whl (5.7 MB)\n",
      "   ---------------------------------------- 0.0/5.7 MB ? eta -:--:--\n",
      "   ------------------ --------------------- 2.7/5.7 MB 56.6 MB/s eta 0:00:01\n",
      "   ---------------------------------- ----- 4.9/5.7 MB 52.0 MB/s eta 0:00:01\n",
      "   ---------------------------------------- 5.7/5.7 MB 45.9 MB/s eta 0:00:00\n",
      "Downloading mpmath-1.3.0-py3-none-any.whl (536 kB)\n",
      "   ---------------------------------------- 0.0/536.2 kB ? eta -:--:--\n",
      "   --------------------------------------- 536.2/536.2 kB 17.0 MB/s eta 0:00:00\n",
      "Installing collected packages: mpmath, sympy, networkx, fsspec, filelock, torch\n",
      "Successfully installed filelock-3.13.1 fsspec-2024.2.0 mpmath-1.3.0 networkx-3.1 sympy-1.12 torch-2.2.1\n"
     ]
    }
   ],
   "source": [
    "!pip install torch"
   ]
  },
  {
   "cell_type": "code",
   "execution_count": 5,
   "id": "c3961f67-95a3-490d-8935-44c0a6d95386",
   "metadata": {},
   "outputs": [
    {
     "name": "stdout",
     "output_type": "stream",
     "text": [
      "Collecting torchvision\n",
      "  Downloading torchvision-0.17.1-cp38-cp38-win_amd64.whl.metadata (6.6 kB)\n",
      "Requirement already satisfied: numpy in c:\\users\\white\\.conda\\envs\\tf2\\lib\\site-packages (from torchvision) (1.24.3)\n",
      "Requirement already satisfied: torch==2.2.1 in c:\\users\\white\\.conda\\envs\\tf2\\lib\\site-packages (from torchvision) (2.2.1)\n",
      "Requirement already satisfied: pillow!=8.3.*,>=5.3.0 in c:\\users\\white\\.conda\\envs\\tf2\\lib\\site-packages (from torchvision) (10.2.0)\n",
      "Requirement already satisfied: filelock in c:\\users\\white\\.conda\\envs\\tf2\\lib\\site-packages (from torch==2.2.1->torchvision) (3.13.1)\n",
      "Requirement already satisfied: typing-extensions>=4.8.0 in c:\\users\\white\\.conda\\envs\\tf2\\lib\\site-packages (from torch==2.2.1->torchvision) (4.9.0)\n",
      "Requirement already satisfied: sympy in c:\\users\\white\\.conda\\envs\\tf2\\lib\\site-packages (from torch==2.2.1->torchvision) (1.12)\n",
      "Requirement already satisfied: networkx in c:\\users\\white\\.conda\\envs\\tf2\\lib\\site-packages (from torch==2.2.1->torchvision) (3.1)\n",
      "Requirement already satisfied: jinja2 in c:\\users\\white\\.conda\\envs\\tf2\\lib\\site-packages (from torch==2.2.1->torchvision) (3.1.3)\n",
      "Requirement already satisfied: fsspec in c:\\users\\white\\.conda\\envs\\tf2\\lib\\site-packages (from torch==2.2.1->torchvision) (2024.2.0)\n",
      "Requirement already satisfied: MarkupSafe>=2.0 in c:\\users\\white\\.conda\\envs\\tf2\\lib\\site-packages (from jinja2->torch==2.2.1->torchvision) (2.1.3)\n",
      "Requirement already satisfied: mpmath>=0.19 in c:\\users\\white\\.conda\\envs\\tf2\\lib\\site-packages (from sympy->torch==2.2.1->torchvision) (1.3.0)\n",
      "Downloading torchvision-0.17.1-cp38-cp38-win_amd64.whl (1.2 MB)\n",
      "   ---------------------------------------- 0.0/1.2 MB ? eta -:--:--\n",
      "   ---------------------------------------- 0.0/1.2 MB ? eta -:--:--\n",
      "   --- ------------------------------------ 0.1/1.2 MB 1.7 MB/s eta 0:00:01\n",
      "   ---------------------------------------- 1.2/1.2 MB 10.6 MB/s eta 0:00:00\n",
      "Installing collected packages: torchvision\n",
      "Successfully installed torchvision-0.17.1\n"
     ]
    }
   ],
   "source": [
    "!pip install torchvision"
   ]
  },
  {
   "cell_type": "code",
   "execution_count": 6,
   "id": "59f3138a-9467-44cb-823b-72811f9dd0cb",
   "metadata": {},
   "outputs": [
    {
     "name": "stdout",
     "output_type": "stream",
     "text": [
      "Collecting interact\n",
      "  Downloading interact-0.2.tar.gz (939 bytes)\n",
      "  Preparing metadata (setup.py): started\n",
      "  Preparing metadata (setup.py): finished with status 'done'\n",
      "Building wheels for collected packages: interact\n",
      "  Building wheel for interact (setup.py): started\n",
      "  Building wheel for interact (setup.py): finished with status 'done'\n",
      "  Created wheel for interact: filename=interact-0.2-py3-none-any.whl size=1532 sha256=b9ca7cba9e29a05d2eda98752dbe9db7aa57746a59c81c875f70b297f60a78f2\n",
      "  Stored in directory: c:\\users\\white\\appdata\\local\\pip\\cache\\wheels\\09\\79\\bc\\8e2a1c82a608c225a0c22b61632c66cad62361672050b3c903\n",
      "Successfully built interact\n",
      "Installing collected packages: interact\n",
      "Successfully installed interact-0.2\n"
     ]
    }
   ],
   "source": [
    "!pip install interact"
   ]
  },
  {
   "cell_type": "code",
   "execution_count": 7,
   "id": "c4724cb5-407e-4cfd-a99a-565bde2d913f",
   "metadata": {},
   "outputs": [],
   "source": [
    "import os\n",
    "import cv2\n",
    "import copy\n",
    "import matplotlib.pyplot as plt\n",
    "import torch\n",
    "import warnings\n",
    "warnings.filterwarnings('ignore')\n",
    "from ipywidgets import interact\n",
    "from torch.utils.data import Dataset, DataLoader\n",
    "from torchvision import transforms, models\n",
    "from torch import nn"
   ]
  },
  {
   "cell_type": "code",
   "execution_count": 8,
   "id": "788b5a46-ca9d-4a11-81b7-fb2f0dbdf11a",
   "metadata": {},
   "outputs": [],
   "source": [
    "# data_dir: datasets\\Covid19-dataset\\train\n",
    "# sub_dir: Covid, Normal, Viral Pneumonia\n",
    "def list_image_file(data_dir, sub_dir):\n",
    "    image_format = ['jpeg', 'jpg', 'png']\n",
    "    image_files = []\n",
    "    image_dir = os.path.join(data_dir, sub_dir) # datasets/Covid19-dataset/train/Covid\n",
    "    for file_path in os.listdir(image_dir):\n",
    "        # 01.jpeg -> ['01', 'jpeg']\n",
    "        if file_path.split('.')[-1] in image_format:\n",
    "            image_files.append(os.path.join(sub_dir, file_path))\n",
    "    return image_files"
   ]
  },
  {
   "cell_type": "code",
   "execution_count": 11,
   "id": "b2665b05-d1d7-4b3e-a4fd-f9c794ec10e3",
   "metadata": {},
   "outputs": [
    {
     "data": {
      "text/plain": [
       "['Normal\\\\01.jpeg',\n",
       " 'Normal\\\\010.jpeg',\n",
       " 'Normal\\\\011.jpeg',\n",
       " 'Normal\\\\012.jpeg',\n",
       " 'Normal\\\\013.jpeg',\n",
       " 'Normal\\\\014.jpeg',\n",
       " 'Normal\\\\015.jpeg',\n",
       " 'Normal\\\\016.jpeg',\n",
       " 'Normal\\\\017.jpeg',\n",
       " 'Normal\\\\018.jpeg',\n",
       " 'Normal\\\\019.jpeg',\n",
       " 'Normal\\\\02.jpeg',\n",
       " 'Normal\\\\020.jpeg',\n",
       " 'Normal\\\\021.jpeg',\n",
       " 'Normal\\\\022.jpeg',\n",
       " 'Normal\\\\023.jpeg',\n",
       " 'Normal\\\\024.jpeg',\n",
       " 'Normal\\\\025.jpeg',\n",
       " 'Normal\\\\03.jpeg',\n",
       " 'Normal\\\\04.jpeg',\n",
       " 'Normal\\\\05.jpeg',\n",
       " 'Normal\\\\050.jpeg',\n",
       " 'Normal\\\\051.jpeg',\n",
       " 'Normal\\\\052.jpeg',\n",
       " 'Normal\\\\053.jpeg',\n",
       " 'Normal\\\\054.jpeg',\n",
       " 'Normal\\\\055.jpeg',\n",
       " 'Normal\\\\056.jpeg',\n",
       " 'Normal\\\\057.jpeg',\n",
       " 'Normal\\\\058.jpeg',\n",
       " 'Normal\\\\059.jpeg',\n",
       " 'Normal\\\\06.jpeg',\n",
       " 'Normal\\\\060.jpeg',\n",
       " 'Normal\\\\061.jpeg',\n",
       " 'Normal\\\\062.jpeg',\n",
       " 'Normal\\\\063.jpeg',\n",
       " 'Normal\\\\064.jpeg',\n",
       " 'Normal\\\\065.jpeg',\n",
       " 'Normal\\\\066.jpeg',\n",
       " 'Normal\\\\067.jpeg',\n",
       " 'Normal\\\\068.jpeg',\n",
       " 'Normal\\\\069.jpeg',\n",
       " 'Normal\\\\07.jpeg',\n",
       " 'Normal\\\\070.jpeg',\n",
       " 'Normal\\\\071.jpeg',\n",
       " 'Normal\\\\072.jpeg',\n",
       " 'Normal\\\\073.jpeg',\n",
       " 'Normal\\\\074.jpeg',\n",
       " 'Normal\\\\075.jpeg',\n",
       " 'Normal\\\\076.jpeg',\n",
       " 'Normal\\\\077.jpeg',\n",
       " 'Normal\\\\079.jpeg',\n",
       " 'Normal\\\\08.jpeg',\n",
       " 'Normal\\\\080.jpeg',\n",
       " 'Normal\\\\081.jpeg',\n",
       " 'Normal\\\\082.jpeg',\n",
       " 'Normal\\\\083.jpeg',\n",
       " 'Normal\\\\084.jpeg',\n",
       " 'Normal\\\\085.jpeg',\n",
       " 'Normal\\\\086.jpeg',\n",
       " 'Normal\\\\087.jpeg',\n",
       " 'Normal\\\\088.jpeg',\n",
       " 'Normal\\\\09.jpeg',\n",
       " 'Normal\\\\091.jpeg',\n",
       " 'Normal\\\\092.jpeg',\n",
       " 'Normal\\\\093.jpeg',\n",
       " 'Normal\\\\094.jpeg',\n",
       " 'Normal\\\\095.jpeg',\n",
       " 'Normal\\\\096.jpeg',\n",
       " 'Normal\\\\097.jpeg']"
      ]
     },
     "execution_count": 11,
     "metadata": {},
     "output_type": "execute_result"
    }
   ],
   "source": [
    "data_dir = 'datasets/Covid19-dataset/train/'\n",
    "normals_list = list_image_file(data_dir, 'Normal')\n",
    "normals_list"
   ]
  },
  {
   "cell_type": "code",
   "execution_count": 12,
   "id": "88fff150-c333-4fed-899d-51673fb831d3",
   "metadata": {},
   "outputs": [
    {
     "data": {
      "text/plain": [
       "70"
      ]
     },
     "execution_count": 12,
     "metadata": {},
     "output_type": "execute_result"
    }
   ],
   "source": [
    "len(normals_list)"
   ]
  },
  {
   "cell_type": "code",
   "execution_count": null,
   "id": "fa0da421-423b-4fd0-9d43-9d4d53417812",
   "metadata": {},
   "outputs": [],
   "source": []
  }
 ],
 "metadata": {
  "kernelspec": {
   "display_name": "tf2",
   "language": "python",
   "name": "tf2"
  },
  "language_info": {
   "codemirror_mode": {
    "name": "ipython",
    "version": 3
   },
   "file_extension": ".py",
   "mimetype": "text/x-python",
   "name": "python",
   "nbconvert_exporter": "python",
   "pygments_lexer": "ipython3",
   "version": "3.8.18"
  }
 },
 "nbformat": 4,
 "nbformat_minor": 5
}
